{
 "cells": [
  {
   "cell_type": "code",
   "execution_count": 1,
   "id": "8cfe9288",
   "metadata": {},
   "outputs": [],
   "source": [
    "import matplotlib.pyplot as plt\n",
    "import seaborn as sns\n",
    "import pandas as pd\n",
    "import numpy as np\n",
    "import re\n",
    "import nltk\n",
    "from sklearn.naive_bayes import MultinomialNB\n",
    "import string\n",
    "\n",
    "from random import randint\n",
    "from nltk.stem.porter import PorterStemmer\n",
    "from nltk.corpus import stopwords\n",
    "from collections import Counter\n",
    "\n",
    "from sklearn.svm import SVC, LinearSVC\n",
    "from sklearn.linear_model import LogisticRegression\n",
    "from sklearn.preprocessing import LabelEncoder\n",
    "from sklearn.model_selection import train_test_split, cross_val_score\n",
    "from sklearn.feature_extraction.text import TfidfVectorizer,CountVectorizer\n",
    "from sklearn.metrics import confusion_matrix,classification_report\n",
    "from sklearn.linear_model import LogisticRegression\n",
    "from sklearn.metrics import confusion_matrix, classification_report,accuracy_score, recall_score, precision_score,f1_score\n",
    "from IPython.core.interactiveshell import InteractiveShell\n",
    "InteractiveShell.ast_node_interactivity = \"all\"\n",
    "\n",
    "\n",
    "\n",
    "\n",
    "\n",
    "\n",
    "\n",
    "\n",
    "\n",
    "\n",
    "\n"
   ]
  },
  {
   "cell_type": "code",
   "execution_count": 2,
   "id": "517a9a2d",
   "metadata": {},
   "outputs": [],
   "source": [
    "#read my csv\n",
    "df = pd.read_excel('df2.xlsx')"
   ]
  },
  {
   "cell_type": "code",
   "execution_count": 3,
   "id": "b52f9e81",
   "metadata": {},
   "outputs": [
    {
     "name": "stdout",
     "output_type": "stream",
     "text": [
      "                                   title     citation  \\\n",
      "0                       Brands Act, 1913  Chapter 244   \n",
      "1  Authentication of Documents Act, 1914   Chapter 75   \n",
      "2     Lands and Deeds Registry Act, 1914  Chapter 185   \n",
      "\n",
      "                                             content  \n",
      "0  e document Zambia Chapter 244 Commenced on 1 N...  \n",
      "1   document Zambia Chapter 75 Commenced on 21 Fe...  \n",
      "2  e document Zambia Chapter 185 There are multip...  \n"
     ]
    }
   ],
   "source": [
    "print(df.head(3))"
   ]
  },
  {
   "cell_type": "code",
   "execution_count": 4,
   "id": "4d9f8f39",
   "metadata": {},
   "outputs": [],
   "source": [
    "# Replace NaN values in 'content' column with empty string\n",
    "df['content'] = df['content'].fillna('')\n",
    "\n",
    "# Create a boolean mask for rows containing \"Loading PDF...\" in column 'content'\n",
    "mask = df['content'].str.contains('Loading PDF...')\n",
    "\n",
    "# Filter the dataframe to keep only rows where the mask is False\n",
    "df_filtered = df[~mask]\n",
    "\n",
    "# Remove duplicates based on all columns\n",
    "df_filtered = df_filtered.drop_duplicates()\n",
    "\n",
    "# Create a new column 'categories' and assign the appropriate category for each row\n",
    "df_filtered.loc[df_filtered['title'].str.contains('Act'), 'categories'] = 'ACT of Parliament'\n",
    "df_filtered.loc[df_filtered['title'].str.contains('Statutory Instrument'), 'categories'] = 'Statutory Instrument'\n",
    "df_filtered.loc[df_filtered['title'].str.contains('Repeal'), 'categories'] = 'Bill'\n",
    "df_filtered.loc[~df_filtered['title'].str.contains('Amendment|Act|Repeal'), 'categories'] = 'Statutory Instrument'\n",
    "df_filtered.loc[df_filtered['categories'].isnull(), 'categories'] = 'Bill'\n",
    "\n",
    "# Write the filtered and categorized dataframe to a new Excel file\n",
    "df_filtered.to_excel('df2_filtered_categorized.xlsx', index=False)\n"
   ]
  },
  {
   "cell_type": "markdown",
   "id": "3c9bb9ff",
   "metadata": {},
   "source": [
    "# Label Encoding the Classes"
   ]
  },
  {
   "cell_type": "code",
   "execution_count": 5,
   "id": "ff722ed0",
   "metadata": {},
   "outputs": [],
   "source": [
    "# Use pandas to pluck out abstracts\n",
    "posts = pd.read_excel('df2_filtered_categorized.xlsx')"
   ]
  },
  {
   "cell_type": "code",
   "execution_count": 6,
   "id": "8e04c418",
   "metadata": {},
   "outputs": [],
   "source": [
    "posts = posts.drop('citation', axis=1)"
   ]
  },
  {
   "cell_type": "code",
   "execution_count": 7,
   "id": "96f48adc",
   "metadata": {},
   "outputs": [
    {
     "name": "stdout",
     "output_type": "stream",
     "text": [
      "                                   title  \\\n",
      "0                       Brands Act, 1913   \n",
      "1  Authentication of Documents Act, 1914   \n",
      "2     Lands and Deeds Registry Act, 1914   \n",
      "\n",
      "                                             content         categories  \n",
      "0  e document Zambia Chapter 244 Commenced on 1 N...  ACT of Parliament  \n",
      "1   document Zambia Chapter 75 Commenced on 21 Fe...  ACT of Parliament  \n",
      "2  e document Zambia Chapter 185 There are multip...  ACT of Parliament  \n"
     ]
    }
   ],
   "source": [
    "print(posts.head(3))"
   ]
  },
  {
   "cell_type": "code",
   "execution_count": 8,
   "id": "9be57496",
   "metadata": {},
   "outputs": [],
   "source": [
    "posts['Xs'] =  posts.title +' '+ posts.content #creat new column 'Xs'\n",
    "posts['Y'] = LabelEncoder().fit(posts.categories.unique()).transform(posts.categories) #label encode\n",
    "\n",
    "posts = posts[['Xs','Y','categories']] # Drop 'title' and 'content'"
   ]
  },
  {
   "cell_type": "code",
   "execution_count": 9,
   "id": "9e089760",
   "metadata": {},
   "outputs": [
    {
     "data": {
      "text/plain": [
       "Index(['Xs', 'Y', 'categories'], dtype='object')"
      ]
     },
     "execution_count": 9,
     "metadata": {},
     "output_type": "execute_result"
    },
    {
     "data": {
      "text/html": [
       "<div>\n",
       "<style scoped>\n",
       "    .dataframe tbody tr th:only-of-type {\n",
       "        vertical-align: middle;\n",
       "    }\n",
       "\n",
       "    .dataframe tbody tr th {\n",
       "        vertical-align: top;\n",
       "    }\n",
       "\n",
       "    .dataframe thead th {\n",
       "        text-align: right;\n",
       "    }\n",
       "</style>\n",
       "<table border=\"1\" class=\"dataframe\">\n",
       "  <thead>\n",
       "    <tr style=\"text-align: right;\">\n",
       "      <th></th>\n",
       "      <th>Xs</th>\n",
       "      <th>Y</th>\n",
       "      <th>categories</th>\n",
       "    </tr>\n",
       "  </thead>\n",
       "  <tbody>\n",
       "    <tr>\n",
       "      <th>85</th>\n",
       "      <td>Societies Act, 1957 (295.4 KB) Search Navigate...</td>\n",
       "      <td>0</td>\n",
       "      <td>ACT of Parliament</td>\n",
       "    </tr>\n",
       "    <tr>\n",
       "      <th>426</th>\n",
       "      <td>NaN</td>\n",
       "      <td>2</td>\n",
       "      <td>Statutory Instrument</td>\n",
       "    </tr>\n",
       "    <tr>\n",
       "      <th>228</th>\n",
       "      <td>National Savings and Credit Act, 1972 e docume...</td>\n",
       "      <td>0</td>\n",
       "      <td>ACT of Parliament</td>\n",
       "    </tr>\n",
       "    <tr>\n",
       "      <th>179</th>\n",
       "      <td>Referendum Act, 1967 n Download Download PDF (...</td>\n",
       "      <td>0</td>\n",
       "      <td>ACT of Parliament</td>\n",
       "    </tr>\n",
       "    <tr>\n",
       "      <th>350</th>\n",
       "      <td>Bank of Zambia Act, 1996 arch Navigate documen...</td>\n",
       "      <td>0</td>\n",
       "      <td>ACT of Parliament</td>\n",
       "    </tr>\n",
       "  </tbody>\n",
       "</table>\n",
       "</div>"
      ],
      "text/plain": [
       "                                                    Xs  Y  \\\n",
       "85   Societies Act, 1957 (295.4 KB) Search Navigate...  0   \n",
       "426                                                NaN  2   \n",
       "228  National Savings and Credit Act, 1972 e docume...  0   \n",
       "179  Referendum Act, 1967 n Download Download PDF (...  0   \n",
       "350  Bank of Zambia Act, 1996 arch Navigate documen...  0   \n",
       "\n",
       "               categories  \n",
       "85      ACT of Parliament  \n",
       "426  Statutory Instrument  \n",
       "228     ACT of Parliament  \n",
       "179     ACT of Parliament  \n",
       "350     ACT of Parliament  "
      ]
     },
     "execution_count": 9,
     "metadata": {},
     "output_type": "execute_result"
    }
   ],
   "source": [
    "#inspect the dataframe\n",
    "posts.columns\n",
    "posts.sample(5)"
   ]
  },
  {
   "cell_type": "code",
   "execution_count": 10,
   "id": "1d24aea6",
   "metadata": {},
   "outputs": [
    {
     "name": "stdout",
     "output_type": "stream",
     "text": [
      "There are a total of 474 posts\n"
     ]
    },
    {
     "data": {
      "text/plain": [
       "\"Deceased Brother's Widow's Marriage Act, 1926  document Zambia Chapter 57 Commenced on 12 October 1926 [This is the \""
      ]
     },
     "execution_count": 10,
     "metadata": {},
     "output_type": "execute_result"
    }
   ],
   "source": [
    "post_content = posts.Xs\n",
    "print('There are a total of {} posts'.format(len(post_content)))\n",
    "\n",
    "index = randint(0,20)  #only inspect posts from the first 20 in the list\n",
    "post_content[index]"
   ]
  },
  {
   "cell_type": "markdown",
   "id": "64e7b60e",
   "metadata": {},
   "source": [
    "# Viewing the post distribution in relation to Classes"
   ]
  },
  {
   "cell_type": "code",
   "execution_count": 11,
   "id": "68871c39",
   "metadata": {},
   "outputs": [
    {
     "data": {
      "text/plain": [
       "categories\n",
       "ACT of Parliament       369\n",
       "Bill                     35\n",
       "Statutory Instrument     70\n",
       "Name: categories, dtype: int64"
      ]
     },
     "execution_count": 11,
     "metadata": {},
     "output_type": "execute_result"
    },
    {
     "data": {
      "text/plain": [
       "<AxesSubplot:ylabel='categories'>"
      ]
     },
     "execution_count": 11,
     "metadata": {},
     "output_type": "execute_result"
    },
    {
     "data": {
      "image/png": "[encoded data removed]",
      "text/plain": [
       "<Figure size 432x288 with 1 Axes>"
      ]
     },
     "metadata": {
      "needs_background": "light"
     },
     "output_type": "display_data"
    }
   ],
   "source": [
    "#inspecting the distribution of comments\n",
    "posts.groupby('categories').categories.count()\n",
    "posts.groupby('categories').categories.count().plot.barh()"
   ]
  },
  {
   "cell_type": "markdown",
   "id": "2bf6db37",
   "metadata": {},
   "source": [
    "# Cleaning the posts\n",
    "1. drop NaN records\n",
    "2. make all words into lower case\n",
    "3. remove punctuations and numbers\n",
    "4. remove stopwords\n",
    "5. stemming"
   ]
  },
  {
   "cell_type": "code",
   "execution_count": 12,
   "id": "2a798594",
   "metadata": {},
   "outputs": [],
   "source": [
    "# 2. Case Folding\n",
    "# Good idea to implement a function here [...]\n",
    "\n",
    "def func_post_case_folding(contentText):\n",
    "    return contentText.lower()\n"
   ]
  },
  {
   "cell_type": "code",
   "execution_count": 13,
   "id": "cf62ec31",
   "metadata": {},
   "outputs": [],
   "source": [
    "# 3. Punctuation\n",
    "# Function for removing punctuations from string of text\n",
    "def func_post_punctuation(contentText):\n",
    "    \n",
    "    #replace special charactors with ' '\n",
    "    contentText_out = re.sub('[^\\w\\s]', ' ',contentText)\n",
    "    contentText_out = re.sub('_', '',contentText_out)\n",
    "    \n",
    "    #change any whitespace to one space\n",
    "    contentText_out = re.sub('\\s+', ' ',contentText_out)\n",
    "    \n",
    "    #remove start and end whitespaces\n",
    "    contentText_out = contentText_out.strip()\n",
    "    \n",
    "    contentText_out = re.sub('\\w*\\d\\w*', '', contentText_out) # replace digits\n",
    "    return contentText_out"
   ]
  },
  {
   "cell_type": "code",
   "execution_count": 14,
   "id": "58ce282e",
   "metadata": {},
   "outputs": [],
   "source": [
    "# 5. Stemming\n",
    "# Function for removing stopwords from string of text\n",
    "# Remember: input will be chunck of text\n",
    "def func_post_stem(contentText):\n",
    "    var_stemmer = PorterStemmer()\n",
    "    contentText_out = \" \".join([\n",
    "        var_stemmer.stem(contentText_word) for contentText_word in contentText.split() \n",
    "    ])\n",
    "    return contentText_out"
   ]
  },
  {
   "cell_type": "code",
   "execution_count": 15,
   "id": "a1e3c5f7",
   "metadata": {},
   "outputs": [
    {
     "name": "stderr",
     "output_type": "stream",
     "text": [
      "[nltk_data] Downloading package stopwords to\n",
      "[nltk_data]     C:\\Users\\jonas\\AppData\\Roaming\\nltk_data...\n",
      "[nltk_data]   Package stopwords is already up-to-date!\n"
     ]
    },
    {
     "data": {
      "text/plain": [
       "True"
      ]
     },
     "execution_count": 15,
     "metadata": {},
     "output_type": "execute_result"
    }
   ],
   "source": [
    "# Uncomment this line to download the stopwords list (only need to run once)\n",
    "nltk.download('stopwords')"
   ]
  },
  {
   "cell_type": "code",
   "execution_count": 16,
   "id": "6c5c0b40",
   "metadata": {},
   "outputs": [],
   "source": [
    "# Function for removing stopwords from string of text\n",
    "def func_post_stopwords(contentText_in):\n",
    "    stop_words = set(stopwords.words('english'))\n",
    "    contentText_out = \" \".join([\n",
    "        contentText_word for contentText_word in contentText_in.split() \n",
    "        if contentText_word.lower() not in stop_words\n",
    "    ])\n",
    "    return contentText_out"
   ]
  },
  {
   "cell_type": "code",
   "execution_count": 17,
   "id": "999b95bd",
   "metadata": {},
   "outputs": [],
   "source": [
    "# 6. form the corpus\n",
    "\n",
    "def func_get_all_words(content_list):\n",
    "    all_words = []\n",
    "    for item in content_list:\n",
    "        for n in item.split():\n",
    "            all_words.append(n)\n",
    "    return all_words"
   ]
  },
  {
   "cell_type": "code",
   "execution_count": 18,
   "id": "10e4e1fe",
   "metadata": {},
   "outputs": [],
   "source": [
    "# 7. Term Frequency \n",
    "\n",
    "def func_tf_transform(all_words_list,clean_content_list):\n",
    "    var_transformed_dataset = []\n",
    "    for item in clean_content_list:\n",
    "        #print (var_etd_entry)\n",
    "        var_dataset = []\n",
    "        var_tokens = item.split()\n",
    "        for x in all_words_list:\n",
    "            #print (var_dictionary_entry)\n",
    "            var_dataset.append(var_tokens.count(x[0]))\n",
    "        var_transformed_dataset.append(var_dataset)\n",
    "    return var_transformed_dataset"
   ]
  },
  {
   "cell_type": "code",
   "execution_count": 19,
   "id": "75ae806e",
   "metadata": {},
   "outputs": [],
   "source": [
    "# function for functions to carry out step 2 to 5\n",
    "# Function for removing stopwords from string of text\n",
    "\n",
    "def func_clean_posts(content_list):\n",
    "    \n",
    "    temp_list = []\n",
    "    for item in content_list:\n",
    "        itemOut = func_post_case_folding(item)\n",
    "        itemOut = func_post_punctuation(itemOut)\n",
    "        itemOut = func_post_stopwords(itemOut)\n",
    "        itemOut = func_post_stem(itemOut)\n",
    "        \n",
    "        temp_list.append(itemOut)\n",
    "        \n",
    "    return temp_list"
   ]
  },
  {
   "cell_type": "code",
   "execution_count": 20,
   "id": "02d8797a",
   "metadata": {},
   "outputs": [],
   "source": [
    "post_content.dropna(inplace= True)\n",
    "post_content_list = list(post_content)"
   ]
  },
  {
   "cell_type": "code",
   "execution_count": 21,
   "id": "8e64ac00",
   "metadata": {
    "scrolled": false
   },
   "outputs": [],
   "source": [
    "#for the pusrpose of demostration, we will only clean 20 posts\n",
    "clean_post_content_list = func_clean_posts(post_content_list)"
   ]
  },
  {
   "cell_type": "code",
   "execution_count": 22,
   "id": "146c4027",
   "metadata": {},
   "outputs": [
    {
     "data": {
      "text/plain": [
       "'deceas brother widow marriag act document zambia chapter commenc octob'"
      ]
     },
     "execution_count": 22,
     "metadata": {},
     "output_type": "execute_result"
    }
   ],
   "source": [
    "clean_post_content_list[index]"
   ]
  },
  {
   "cell_type": "code",
   "execution_count": 23,
   "id": "1b8e2b5f",
   "metadata": {},
   "outputs": [
    {
     "data": {
      "text/plain": [
       "116"
      ]
     },
     "execution_count": 23,
     "metadata": {},
     "output_type": "execute_result"
    },
    {
     "data": {
      "text/plain": [
       "70"
      ]
     },
     "execution_count": 23,
     "metadata": {},
     "output_type": "execute_result"
    }
   ],
   "source": [
    "#Check the length of the post before and after text cleaning.\n",
    "len(post_content[index])\n",
    "len(clean_post_content_list[index])"
   ]
  },
  {
   "cell_type": "markdown",
   "id": "ff3a5b42",
   "metadata": {},
   "source": [
    "# Save the clean posts to Excel\n"
   ]
  },
  {
   "cell_type": "code",
   "execution_count": 24,
   "id": "d83b3aad",
   "metadata": {},
   "outputs": [
    {
     "name": "stdout",
     "output_type": "stream",
     "text": [
      "474\n",
      "375\n"
     ]
    }
   ],
   "source": [
    "print(len(posts))  # should be 517\n",
    "print(len(clean_post_content_list))  # should also be 517"
   ]
  },
  {
   "cell_type": "code",
   "execution_count": 25,
   "id": "5b7216a5",
   "metadata": {},
   "outputs": [],
   "source": [
    "cleanPosts = posts"
   ]
  },
  {
   "cell_type": "code",
   "execution_count": 26,
   "id": "9f9cebd4",
   "metadata": {},
   "outputs": [],
   "source": [
    "cleanPosts.dropna(subset=['Xs'], inplace=True)\n"
   ]
  },
  {
   "cell_type": "code",
   "execution_count": 27,
   "id": "f40fec05",
   "metadata": {},
   "outputs": [
    {
     "name": "stdout",
     "output_type": "stream",
     "text": [
      "0      Brands Act, 1913 e document Zambia Chapter 244...\n",
      "1      Authentication of Documents Act, 1914  documen...\n",
      "2      Lands and Deeds Registry Act, 1914 e document ...\n",
      "3      Cotton Act, 1914 e document Zambia Chapter 227...\n",
      "4      Witchcraft Act, 1914  document Zambia Chapter ...\n",
      "                             ...                        \n",
      "374    Customs and Excise (Raw Hides and Skins) (Expo...\n",
      "375    Customs and Excise (Copper Ores and Concentrat...\n",
      "376    Customs and Excise (Precious Metals) (Export D...\n",
      "377    Customs and Excise (Ethyl Alcohol) (Refunds, R...\n",
      "378    Customs and Excise (Customs Duty) (Suspension)...\n",
      "Name: Xs, Length: 375, dtype: object\n"
     ]
    }
   ],
   "source": [
    "print(cleanPosts.Xs)"
   ]
  },
  {
   "cell_type": "code",
   "execution_count": 28,
   "id": "3f94709b",
   "metadata": {},
   "outputs": [],
   "source": [
    "cleanPosts.Xs = clean_post_content_list\n",
    "cleanPosts.to_excel('cleanPostClassification_no_numerics.xlsx')"
   ]
  },
  {
   "cell_type": "code",
   "execution_count": 29,
   "id": "55d8a869",
   "metadata": {},
   "outputs": [
    {
     "name": "stdout",
     "output_type": "stream",
     "text": [
      "375\n",
      "375\n"
     ]
    }
   ],
   "source": [
    "print(len(posts))  # should be 371\n",
    "print(len(clean_post_content_list))  # should also be 371"
   ]
  },
  {
   "cell_type": "markdown",
   "id": "f85708f0",
   "metadata": {},
   "source": [
    "# Load the cleaned data from the excel"
   ]
  },
  {
   "cell_type": "code",
   "execution_count": 30,
   "id": "37d9dbe6",
   "metadata": {},
   "outputs": [],
   "source": [
    "cleanPosts = pd.read_excel('cleanPostClassification_no_numerics.xlsx')\n",
    "clean_post_content_list = list(cleanPosts.Xs)"
   ]
  },
  {
   "cell_type": "code",
   "execution_count": 31,
   "id": "7efa0aa8",
   "metadata": {},
   "outputs": [
    {
     "data": {
      "text/html": [
       "<div>\n",
       "<style scoped>\n",
       "    .dataframe tbody tr th:only-of-type {\n",
       "        vertical-align: middle;\n",
       "    }\n",
       "\n",
       "    .dataframe tbody tr th {\n",
       "        vertical-align: top;\n",
       "    }\n",
       "\n",
       "    .dataframe thead th {\n",
       "        text-align: right;\n",
       "    }\n",
       "</style>\n",
       "<table border=\"1\" class=\"dataframe\">\n",
       "  <thead>\n",
       "    <tr style=\"text-align: right;\">\n",
       "      <th></th>\n",
       "      <th>Unnamed: 0</th>\n",
       "      <th>Xs</th>\n",
       "      <th>Y</th>\n",
       "      <th>categories</th>\n",
       "    </tr>\n",
       "  </thead>\n",
       "  <tbody>\n",
       "    <tr>\n",
       "      <th>345</th>\n",
       "      <td>349</td>\n",
       "      <td>nation pension scheme act gislat download down...</td>\n",
       "      <td>0</td>\n",
       "      <td>ACT of Parliament</td>\n",
       "    </tr>\n",
       "    <tr>\n",
       "      <th>260</th>\n",
       "      <td>264</td>\n",
       "      <td>account act kb relat document repeal search na...</td>\n",
       "      <td>0</td>\n",
       "      <td>ACT of Parliament</td>\n",
       "    </tr>\n",
       "    <tr>\n",
       "      <th>268</th>\n",
       "      <td>272</td>\n",
       "      <td>nation youth develop council act e document za...</td>\n",
       "      <td>0</td>\n",
       "      <td>ACT of Parliament</td>\n",
       "    </tr>\n",
       "  </tbody>\n",
       "</table>\n",
       "</div>"
      ],
      "text/plain": [
       "     Unnamed: 0                                                 Xs  Y  \\\n",
       "345         349  nation pension scheme act gislat download down...  0   \n",
       "260         264  account act kb relat document repeal search na...  0   \n",
       "268         272  nation youth develop council act e document za...  0   \n",
       "\n",
       "            categories  \n",
       "345  ACT of Parliament  \n",
       "260  ACT of Parliament  \n",
       "268  ACT of Parliament  "
      ]
     },
     "execution_count": 31,
     "metadata": {},
     "output_type": "execute_result"
    }
   ],
   "source": [
    "cleanPosts.sample(3)  #Sampling the imported clean texts."
   ]
  },
  {
   "cell_type": "code",
   "execution_count": 32,
   "id": "57c4b85c",
   "metadata": {},
   "outputs": [
    {
     "data": {
      "text/plain": [
       "[('shall', 6505),\n",
       " ('may', 3823),\n",
       " ('person', 3059),\n",
       " ('section', 1638),\n",
       " ('offic', 1623),\n",
       " ('court', 1598),\n",
       " ('order', 1556),\n",
       " ('minist', 1471),\n",
       " ('board', 1324),\n",
       " ('member', 1247),\n",
       " ('zambia', 1225),\n",
       " ('b', 1180),\n",
       " ('document', 1169),\n",
       " ('subsect', 1086),\n",
       " ('part', 1080),\n",
       " ('applic', 1043),\n",
       " ('made', 904),\n",
       " ('provis', 890),\n",
       " ('time', 851),\n",
       " ('author', 813)]"
      ]
     },
     "execution_count": 32,
     "metadata": {},
     "output_type": "execute_result"
    }
   ],
   "source": [
    "#checking the frequence of the most common top 20 words\n",
    "Counter(func_get_all_words(clean_post_content_list)).most_common(20)"
   ]
  },
  {
   "cell_type": "markdown",
   "id": "24446f5d",
   "metadata": {},
   "source": [
    "# Labels and Feature extraction"
   ]
  },
  {
   "cell_type": "code",
   "execution_count": 33,
   "id": "b75a9bc6",
   "metadata": {},
   "outputs": [
    {
     "data": {
      "text/html": [
       "<div>\n",
       "<style scoped>\n",
       "    .dataframe tbody tr th:only-of-type {\n",
       "        vertical-align: middle;\n",
       "    }\n",
       "\n",
       "    .dataframe tbody tr th {\n",
       "        vertical-align: top;\n",
       "    }\n",
       "\n",
       "    .dataframe thead th {\n",
       "        text-align: right;\n",
       "    }\n",
       "</style>\n",
       "<table border=\"1\" class=\"dataframe\">\n",
       "  <thead>\n",
       "    <tr style=\"text-align: right;\">\n",
       "      <th></th>\n",
       "      <th>categories</th>\n",
       "      <th>Y</th>\n",
       "    </tr>\n",
       "  </thead>\n",
       "  <tbody>\n",
       "    <tr>\n",
       "      <th>0</th>\n",
       "      <td>ACT of Parliament</td>\n",
       "      <td>0</td>\n",
       "    </tr>\n",
       "    <tr>\n",
       "      <th>1</th>\n",
       "      <td>Bill</td>\n",
       "      <td>1</td>\n",
       "    </tr>\n",
       "    <tr>\n",
       "      <th>2</th>\n",
       "      <td>Statutory Instrument</td>\n",
       "      <td>2</td>\n",
       "    </tr>\n",
       "  </tbody>\n",
       "</table>\n",
       "</div>"
      ],
      "text/plain": [
       "             categories  Y\n",
       "0     ACT of Parliament  0\n",
       "1                  Bill  1\n",
       "2  Statutory Instrument  2"
      ]
     },
     "execution_count": 33,
     "metadata": {},
     "output_type": "execute_result"
    }
   ],
   "source": [
    "# generates a dataframe of the mapping between Class and labels(Y)\n",
    "\n",
    "Label_categories_df = cleanPosts[['categories', 'Y']].drop_duplicates().sort_values('Y').reset_index().drop(columns='index')\n",
    "Label_categories_df"
   ]
  },
  {
   "cell_type": "code",
   "execution_count": 34,
   "id": "4a117dc4",
   "metadata": {},
   "outputs": [
    {
     "data": {
      "text/html": [
       "<style>#sk-container-id-1 {color: black;background-color: white;}#sk-container-id-1 pre{padding: 0;}#sk-container-id-1 div.sk-toggleable {background-color: white;}#sk-container-id-1 label.sk-toggleable__label {cursor: pointer;display: block;width: 100%;margin-bottom: 0;padding: 0.3em;box-sizing: border-box;text-align: center;}#sk-container-id-1 label.sk-toggleable__label-arrow:before {content: \"▸\";float: left;margin-right: 0.25em;color: #696969;}#sk-container-id-1 label.sk-toggleable__label-arrow:hover:before {color: black;}#sk-container-id-1 div.sk-estimator:hover label.sk-toggleable__label-arrow:before {color: black;}#sk-container-id-1 div.sk-toggleable__content {max-height: 0;max-width: 0;overflow: hidden;text-align: left;background-color: #f0f8ff;}#sk-container-id-1 div.sk-toggleable__content pre {margin: 0.2em;color: black;border-radius: 0.25em;background-color: #f0f8ff;}#sk-container-id-1 input.sk-toggleable__control:checked~div.sk-toggleable__content {max-height: 200px;max-width: 100%;overflow: auto;}#sk-container-id-1 input.sk-toggleable__control:checked~label.sk-toggleable__label-arrow:before {content: \"▾\";}#sk-container-id-1 div.sk-estimator input.sk-toggleable__control:checked~label.sk-toggleable__label {background-color: #d4ebff;}#sk-container-id-1 div.sk-label input.sk-toggleable__control:checked~label.sk-toggleable__label {background-color: #d4ebff;}#sk-container-id-1 input.sk-hidden--visually {border: 0;clip: rect(1px 1px 1px 1px);clip: rect(1px, 1px, 1px, 1px);height: 1px;margin: -1px;overflow: hidden;padding: 0;position: absolute;width: 1px;}#sk-container-id-1 div.sk-estimator {font-family: monospace;background-color: #f0f8ff;border: 1px dotted black;border-radius: 0.25em;box-sizing: border-box;margin-bottom: 0.5em;}#sk-container-id-1 div.sk-estimator:hover {background-color: #d4ebff;}#sk-container-id-1 div.sk-parallel-item::after {content: \"\";width: 100%;border-bottom: 1px solid gray;flex-grow: 1;}#sk-container-id-1 div.sk-label:hover label.sk-toggleable__label {background-color: #d4ebff;}#sk-container-id-1 div.sk-serial::before {content: \"\";position: absolute;border-left: 1px solid gray;box-sizing: border-box;top: 0;bottom: 0;left: 50%;z-index: 0;}#sk-container-id-1 div.sk-serial {display: flex;flex-direction: column;align-items: center;background-color: white;padding-right: 0.2em;padding-left: 0.2em;position: relative;}#sk-container-id-1 div.sk-item {position: relative;z-index: 1;}#sk-container-id-1 div.sk-parallel {display: flex;align-items: stretch;justify-content: center;background-color: white;position: relative;}#sk-container-id-1 div.sk-item::before, #sk-container-id-1 div.sk-parallel-item::before {content: \"\";position: absolute;border-left: 1px solid gray;box-sizing: border-box;top: 0;bottom: 0;left: 50%;z-index: -1;}#sk-container-id-1 div.sk-parallel-item {display: flex;flex-direction: column;z-index: 1;position: relative;background-color: white;}#sk-container-id-1 div.sk-parallel-item:first-child::after {align-self: flex-end;width: 50%;}#sk-container-id-1 div.sk-parallel-item:last-child::after {align-self: flex-start;width: 50%;}#sk-container-id-1 div.sk-parallel-item:only-child::after {width: 0;}#sk-container-id-1 div.sk-dashed-wrapped {border: 1px dashed gray;margin: 0 0.4em 0.5em 0.4em;box-sizing: border-box;padding-bottom: 0.4em;background-color: white;}#sk-container-id-1 div.sk-label label {font-family: monospace;font-weight: bold;display: inline-block;line-height: 1.2em;}#sk-container-id-1 div.sk-label-container {text-align: center;}#sk-container-id-1 div.sk-container {/* jupyter's `normalize.less` sets `[hidden] { display: none; }` but bootstrap.min.css set `[hidden] { display: none !important; }` so we also need the `!important` here to be able to override the default hidden behavior on the sphinx rendered scikit-learn.org. See: https://github.com/scikit-learn/scikit-learn/issues/21755 */display: inline-block !important;position: relative;}#sk-container-id-1 div.sk-text-repr-fallback {display: none;}</style><div id=\"sk-container-id-1\" class=\"sk-top-container\"><div class=\"sk-text-repr-fallback\"><pre>TfidfVectorizer()</pre><b>In a Jupyter environment, please rerun this cell to show the HTML representation or trust the notebook. <br />On GitHub, the HTML representation is unable to render, please try loading this page with nbviewer.org.</b></div><div class=\"sk-container\" hidden><div class=\"sk-item\"><div class=\"sk-estimator sk-toggleable\"><input class=\"sk-toggleable__control sk-hidden--visually\" id=\"sk-estimator-id-1\" type=\"checkbox\" checked><label for=\"sk-estimator-id-1\" class=\"sk-toggleable__label sk-toggleable__label-arrow\">TfidfVectorizer</label><div class=\"sk-toggleable__content\"><pre>TfidfVectorizer()</pre></div></div></div></div></div>"
      ],
      "text/plain": [
       "TfidfVectorizer()"
      ]
     },
     "execution_count": 34,
     "metadata": {},
     "output_type": "execute_result"
    }
   ],
   "source": [
    "#Learning the vocabulary\n",
    "\n",
    "# vectorizer = CountVectorizer()\n",
    "vectorizer = TfidfVectorizer()\n",
    "vectorizer.fit(clean_post_content_list)"
   ]
  },
  {
   "cell_type": "code",
   "execution_count": 35,
   "id": "7cb21ded",
   "metadata": {},
   "outputs": [
    {
     "name": "stderr",
     "output_type": "stream",
     "text": [
      "C:\\Users\\jonas\\anaconda3\\lib\\site-packages\\sklearn\\utils\\deprecation.py:87: FutureWarning: Function get_feature_names is deprecated; get_feature_names is deprecated in 1.0 and will be removed in 1.2. Please use get_feature_names_out instead.\n",
      "  warnings.warn(msg, category=FutureWarning)\n"
     ]
    }
   ],
   "source": [
    "#getting the tf-idf features and feature names\n",
    "\n",
    "features = vectorizer.transform(clean_post_content_list)\n",
    "features_columns = vectorizer.get_feature_names()"
   ]
  },
  {
   "cell_type": "code",
   "execution_count": 36,
   "id": "c19b3f88",
   "metadata": {},
   "outputs": [
    {
     "data": {
      "text/plain": [
       "(375, 5117)"
      ]
     },
     "execution_count": 36,
     "metadata": {},
     "output_type": "execute_result"
    }
   ],
   "source": [
    "#create a pandas dataframe\n",
    "\n",
    "features_df = pd.DataFrame(features.toarray(), columns = features_columns)\n",
    "features_df.shape"
   ]
  },
  {
   "cell_type": "code",
   "execution_count": 37,
   "id": "a2d238bf",
   "metadata": {},
   "outputs": [
    {
     "data": {
      "text/plain": [
       "337"
      ]
     },
     "execution_count": 37,
     "metadata": {},
     "output_type": "execute_result"
    },
    {
     "data": {
      "text/plain": [
       "38"
      ]
     },
     "execution_count": 37,
     "metadata": {},
     "output_type": "execute_result"
    }
   ],
   "source": [
    "#train_test_split?\n",
    "x_train, x_test, y_train, y_test = train_test_split(features_df, cleanPosts['Y'], test_size=0.10)\n",
    "len(x_train)\n",
    "len(x_test)"
   ]
  },
  {
   "cell_type": "code",
   "execution_count": 38,
   "id": "8b9b4e9d",
   "metadata": {},
   "outputs": [
    {
     "data": {
      "text/html": [
       "<style>#sk-container-id-2 {color: black;background-color: white;}#sk-container-id-2 pre{padding: 0;}#sk-container-id-2 div.sk-toggleable {background-color: white;}#sk-container-id-2 label.sk-toggleable__label {cursor: pointer;display: block;width: 100%;margin-bottom: 0;padding: 0.3em;box-sizing: border-box;text-align: center;}#sk-container-id-2 label.sk-toggleable__label-arrow:before {content: \"▸\";float: left;margin-right: 0.25em;color: #696969;}#sk-container-id-2 label.sk-toggleable__label-arrow:hover:before {color: black;}#sk-container-id-2 div.sk-estimator:hover label.sk-toggleable__label-arrow:before {color: black;}#sk-container-id-2 div.sk-toggleable__content {max-height: 0;max-width: 0;overflow: hidden;text-align: left;background-color: #f0f8ff;}#sk-container-id-2 div.sk-toggleable__content pre {margin: 0.2em;color: black;border-radius: 0.25em;background-color: #f0f8ff;}#sk-container-id-2 input.sk-toggleable__control:checked~div.sk-toggleable__content {max-height: 200px;max-width: 100%;overflow: auto;}#sk-container-id-2 input.sk-toggleable__control:checked~label.sk-toggleable__label-arrow:before {content: \"▾\";}#sk-container-id-2 div.sk-estimator input.sk-toggleable__control:checked~label.sk-toggleable__label {background-color: #d4ebff;}#sk-container-id-2 div.sk-label input.sk-toggleable__control:checked~label.sk-toggleable__label {background-color: #d4ebff;}#sk-container-id-2 input.sk-hidden--visually {border: 0;clip: rect(1px 1px 1px 1px);clip: rect(1px, 1px, 1px, 1px);height: 1px;margin: -1px;overflow: hidden;padding: 0;position: absolute;width: 1px;}#sk-container-id-2 div.sk-estimator {font-family: monospace;background-color: #f0f8ff;border: 1px dotted black;border-radius: 0.25em;box-sizing: border-box;margin-bottom: 0.5em;}#sk-container-id-2 div.sk-estimator:hover {background-color: #d4ebff;}#sk-container-id-2 div.sk-parallel-item::after {content: \"\";width: 100%;border-bottom: 1px solid gray;flex-grow: 1;}#sk-container-id-2 div.sk-label:hover label.sk-toggleable__label {background-color: #d4ebff;}#sk-container-id-2 div.sk-serial::before {content: \"\";position: absolute;border-left: 1px solid gray;box-sizing: border-box;top: 0;bottom: 0;left: 50%;z-index: 0;}#sk-container-id-2 div.sk-serial {display: flex;flex-direction: column;align-items: center;background-color: white;padding-right: 0.2em;padding-left: 0.2em;position: relative;}#sk-container-id-2 div.sk-item {position: relative;z-index: 1;}#sk-container-id-2 div.sk-parallel {display: flex;align-items: stretch;justify-content: center;background-color: white;position: relative;}#sk-container-id-2 div.sk-item::before, #sk-container-id-2 div.sk-parallel-item::before {content: \"\";position: absolute;border-left: 1px solid gray;box-sizing: border-box;top: 0;bottom: 0;left: 50%;z-index: -1;}#sk-container-id-2 div.sk-parallel-item {display: flex;flex-direction: column;z-index: 1;position: relative;background-color: white;}#sk-container-id-2 div.sk-parallel-item:first-child::after {align-self: flex-end;width: 50%;}#sk-container-id-2 div.sk-parallel-item:last-child::after {align-self: flex-start;width: 50%;}#sk-container-id-2 div.sk-parallel-item:only-child::after {width: 0;}#sk-container-id-2 div.sk-dashed-wrapped {border: 1px dashed gray;margin: 0 0.4em 0.5em 0.4em;box-sizing: border-box;padding-bottom: 0.4em;background-color: white;}#sk-container-id-2 div.sk-label label {font-family: monospace;font-weight: bold;display: inline-block;line-height: 1.2em;}#sk-container-id-2 div.sk-label-container {text-align: center;}#sk-container-id-2 div.sk-container {/* jupyter's `normalize.less` sets `[hidden] { display: none; }` but bootstrap.min.css set `[hidden] { display: none !important; }` so we also need the `!important` here to be able to override the default hidden behavior on the sphinx rendered scikit-learn.org. See: https://github.com/scikit-learn/scikit-learn/issues/21755 */display: inline-block !important;position: relative;}#sk-container-id-2 div.sk-text-repr-fallback {display: none;}</style><div id=\"sk-container-id-2\" class=\"sk-top-container\"><div class=\"sk-text-repr-fallback\"><pre>LinearSVC()</pre><b>In a Jupyter environment, please rerun this cell to show the HTML representation or trust the notebook. <br />On GitHub, the HTML representation is unable to render, please try loading this page with nbviewer.org.</b></div><div class=\"sk-container\" hidden><div class=\"sk-item\"><div class=\"sk-estimator sk-toggleable\"><input class=\"sk-toggleable__control sk-hidden--visually\" id=\"sk-estimator-id-2\" type=\"checkbox\" checked><label for=\"sk-estimator-id-2\" class=\"sk-toggleable__label sk-toggleable__label-arrow\">LinearSVC</label><div class=\"sk-toggleable__content\"><pre>LinearSVC()</pre></div></div></div></div></div>"
      ],
      "text/plain": [
       "LinearSVC()"
      ]
     },
     "execution_count": 38,
     "metadata": {},
     "output_type": "execute_result"
    }
   ],
   "source": [
    "# Performing CV to tune parameters for best SVM fit\n",
    "model = LinearSVC()\n",
    "# model = LogisticRegression(multi_class= 'auto')\n",
    "model.fit(x_train, y_train)"
   ]
  },
  {
   "cell_type": "code",
   "execution_count": 39,
   "id": "3b10ce51",
   "metadata": {},
   "outputs": [
    {
     "data": {
      "text/plain": [
       "0.9473684210526315"
      ]
     },
     "execution_count": 39,
     "metadata": {},
     "output_type": "execute_result"
    }
   ],
   "source": [
    "model.score(x_test, y_test)\n",
    "y_pred = model.predict(x_test)"
   ]
  },
  {
   "cell_type": "code",
   "execution_count": 40,
   "id": "7624fce1",
   "metadata": {},
   "outputs": [
    {
     "data": {
      "text/plain": [
       "<AxesSubplot:>"
      ]
     },
     "execution_count": 40,
     "metadata": {},
     "output_type": "execute_result"
    },
    {
     "data": {
      "text/plain": [
       "Text(32.99999999999999, 0.5, 'Actual')"
      ]
     },
     "execution_count": 40,
     "metadata": {},
     "output_type": "execute_result"
    },
    {
     "data": {
      "text/plain": [
       "Text(0.5, 15.0, 'Predicted')"
      ]
     },
     "execution_count": 40,
     "metadata": {},
     "output_type": "execute_result"
    },
    {
     "data": {
      "image/png": "[encoded data removed]",
      "text/plain": [
       "<Figure size 432x288 with 2 Axes>"
      ]
     },
     "metadata": {
      "needs_background": "light"
     },
     "output_type": "display_data"
    }
   ],
   "source": [
    "# creating the confusion matrix\n",
    "\n",
    "conf_mat = confusion_matrix(y_test, y_pred)\n",
    "sns.heatmap(conf_mat, annot=True, fmt='d',\n",
    "            xticklabels=Label_categories_df.categories.values, yticklabels=Label_categories_df.categories.values)\n",
    "plt.ylabel('Actual')\n",
    "plt.xlabel('Predicted')"
   ]
  },
  {
   "cell_type": "code",
   "execution_count": 41,
   "id": "dfcd6683",
   "metadata": {
    "scrolled": true
   },
   "outputs": [
    {
     "name": "stdout",
     "output_type": "stream",
     "text": [
      "                      precision    recall  f1-score   support\n",
      "\n",
      "   ACT of Parliament       0.95      1.00      0.97        36\n",
      "                Bill       0.00      0.00      0.00         1\n",
      "Statutory Instrument       0.00      0.00      0.00         1\n",
      "\n",
      "            accuracy                           0.95        38\n",
      "           macro avg       0.32      0.33      0.32        38\n",
      "        weighted avg       0.90      0.95      0.92        38\n",
      "\n"
     ]
    },
    {
     "name": "stderr",
     "output_type": "stream",
     "text": [
      "C:\\Users\\jonas\\anaconda3\\lib\\site-packages\\sklearn\\metrics\\_classification.py:1334: UndefinedMetricWarning: Precision and F-score are ill-defined and being set to 0.0 in labels with no predicted samples. Use `zero_division` parameter to control this behavior.\n",
      "  _warn_prf(average, modifier, msg_start, len(result))\n",
      "C:\\Users\\jonas\\anaconda3\\lib\\site-packages\\sklearn\\metrics\\_classification.py:1334: UndefinedMetricWarning: Precision and F-score are ill-defined and being set to 0.0 in labels with no predicted samples. Use `zero_division` parameter to control this behavior.\n",
      "  _warn_prf(average, modifier, msg_start, len(result))\n",
      "C:\\Users\\jonas\\anaconda3\\lib\\site-packages\\sklearn\\metrics\\_classification.py:1334: UndefinedMetricWarning: Precision and F-score are ill-defined and being set to 0.0 in labels with no predicted samples. Use `zero_division` parameter to control this behavior.\n",
      "  _warn_prf(average, modifier, msg_start, len(result))\n"
     ]
    }
   ],
   "source": [
    "print(classification_report(y_test, y_pred,target_names= Label_categories_df.categories.values ))"
   ]
  },
  {
   "cell_type": "code",
   "execution_count": 42,
   "id": "b79a44ef",
   "metadata": {},
   "outputs": [
    {
     "name": "stderr",
     "output_type": "stream",
     "text": [
      "C:\\Users\\jonas\\anaconda3\\lib\\site-packages\\sklearn\\model_selection\\_split.py:684: UserWarning: The least populated class in y has only 5 members, which is less than n_splits=10.\n",
      "  warnings.warn(\n"
     ]
    },
    {
     "name": "stdout",
     "output_type": "stream",
     "text": [
      "[0.94736842 0.94736842 0.94736842 0.94736842 0.94736842 0.97297297\n",
      " 0.97297297 0.97297297 0.97297297 0.94594595]\n"
     ]
    }
   ],
   "source": [
    "# Use cross_val_score function\n",
    "# We are passing the entirety of X and y, not X_train or y_train, it takes care of splitting the dat\n",
    "# cv=10 for 10 folds\n",
    "# scoring='accuracy' for evaluation metric - althought they are many\n",
    "scores = cross_val_score(model,features_df, cleanPosts['Y'], cv=10, scoring='accuracy')\n",
    "print(scores)"
   ]
  },
  {
   "cell_type": "code",
   "execution_count": 43,
   "id": "341671db",
   "metadata": {},
   "outputs": [
    {
     "name": "stdout",
     "output_type": "stream",
     "text": [
      "The Cross-validation score is 0.9574679943100997\n"
     ]
    }
   ],
   "source": [
    "print('The Cross-validation score is {}'.format(scores.mean()))"
   ]
  },
  {
   "cell_type": "code",
   "execution_count": null,
   "id": "d15aacce",
   "metadata": {},
   "outputs": [],
   "source": []
  }
 ],
 "metadata": {
  "kernelspec": {
   "display_name": "Python 3",
   "language": "python",
   "name": "python3"
  },
  "language_info": {
   "codemirror_mode": {
    "name": "ipython",
    "version": 3
   },
   "file_extension": ".py",
   "mimetype": "text/x-python",
   "name": "python",
   "nbconvert_exporter": "python",
   "pygments_lexer": "ipython3",
   "version": "3.8.8"
  }
 },
 "nbformat": 4,
 "nbformat_minor": 5
}
